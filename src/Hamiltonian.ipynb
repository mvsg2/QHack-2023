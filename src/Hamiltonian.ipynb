{
 "cells": [
  {
   "cell_type": "code",
   "execution_count": 1,
   "id": "58d2ce15-94e0-4cd1-a3ee-52d0130ca125",
   "metadata": {},
   "outputs": [],
   "source": [
    "import pennylane as qml\n",
    "from pennylane import numpy as np"
   ]
  },
  {
   "cell_type": "code",
   "execution_count": 8,
   "id": "8efd9ebc-b9c0-49d3-8dea-158971187292",
   "metadata": {},
   "outputs": [],
   "source": [
    "def construct_hamilitonian(n):\n",
    "    coeffs = []\n",
    "    obs = []\n",
    "    for i in range(n):\n",
    "        for j in range(n):\n",
    "            if i < j:\n",
    "                coeffs.append(1/3)\n",
    "                obs.append(qml.PauliX(i)@qml.PauliX(j))   # The '@' here means taking the tensor product between the operators which can also be done by using qml.prod() function\n",
    "        coeffs.append(-1)\n",
    "        obs.append(qml.PauliZ(i))\n",
    "    return qml.Hamiltonian(coeffs=coeffs, observables=obs)"
   ]
  },
  {
   "cell_type": "code",
   "execution_count": 21,
   "id": "1fdec21e-079e-4ed1-9cb4-34cafc48e772",
   "metadata": {},
   "outputs": [
    {
     "name": "stdout",
     "output_type": "stream",
     "text": [
      "  (-1) [Z0]\n",
      "+ (-1) [Z1]\n",
      "+ (-1) [Z2]\n",
      "+ (-1) [Z3]\n",
      "+ (-1) [Z4]\n",
      "+ (0.3333333333333333) [X0 X1]\n",
      "+ (0.3333333333333333) [X0 X2]\n",
      "+ (0.3333333333333333) [X0 X3]\n",
      "+ (0.3333333333333333) [X0 X4]\n",
      "+ (0.3333333333333333) [X1 X2]\n",
      "+ (0.3333333333333333) [X1 X3]\n",
      "+ (0.3333333333333333) [X1 X4]\n",
      "+ (0.3333333333333333) [X2 X3]\n",
      "+ (0.3333333333333333) [X2 X4]\n",
      "+ (0.3333333333333333) [X3 X4]\n"
     ]
    }
   ],
   "source": [
    "print(construct_hamilitonian(5))"
   ]
  },
  {
   "cell_type": "code",
   "execution_count": 12,
   "id": "7f37602a-3fcc-4250-993f-8d7ef61d1354",
   "metadata": {},
   "outputs": [
    {
     "name": "stdout",
     "output_type": "stream",
     "text": [
      "  (-1) [Z0]\n",
      "+ (-1) [Z1]\n",
      "+ (-1) [Z2]\n",
      "+ (-1) [Z3]\n",
      "+ (0.3333333333333333) [X0 X1]\n",
      "+ (0.3333333333333333) [X0 X2]\n",
      "+ (0.3333333333333333) [X0 X3]\n",
      "+ (0.3333333333333333) [X1 X2]\n",
      "+ (0.3333333333333333) [X1 X3]\n",
      "+ (0.3333333333333333) [X2 X3]\n"
     ]
    }
   ],
   "source": [
    "construct_hamilitonian(4)"
   ]
  },
  {
   "cell_type": "code",
   "execution_count": 22,
   "id": "0df14932-a510-4fcc-bc89-2aaffaa81d70",
   "metadata": {},
   "outputs": [],
   "source": [
    "def expectation_value(num_wires):\n",
    "    \"\"\"Simulates the circuit in question and returns the expectation value of the \n",
    "    Hamiltonian in question.\n",
    "\n",
    "    Args:\n",
    "        num_wires (int): The number of qubits.\n",
    "\n",
    "    Returns:\n",
    "        (float): The expectation value of the Hamiltonian.\n",
    "    \"\"\"\n",
    "    # Define a device using qml.device\n",
    "    dev = qml.device('default.qubit', wires=num_wires)\n",
    "    @qml.qnode(dev)\n",
    "    def circuit(num_wires):\n",
    "        \"\"\"A quantum circuit with Hadamard gates on every qubit and that measures\n",
    "        the expectation value of the Hamiltonian in question. \n",
    "        \"\"\"\n",
    "        # Put Hadamard gates here #\n",
    "        for i in range(num_wires):\n",
    "            qml.Hadamard(i)\n",
    "        # Then return the expectation value of the Hamiltonian using qml.expval\n",
    "        return qml.expval(construct_hamilitonian(n=num_wires))\n",
    "    return circuit(num_wires)"
   ]
  },
  {
   "cell_type": "code",
   "execution_count": 25,
   "id": "58a2ff6f-9074-481c-83b8-b92b38bd3411",
   "metadata": {},
   "outputs": [
    {
     "name": "stdout",
     "output_type": "stream",
     "text": [
      "0.9999999999999994\n"
     ]
    }
   ],
   "source": [
    "print(expectation_value(3))"
   ]
  },
  {
   "cell_type": "code",
   "execution_count": 24,
   "id": "4a519762-2e48-45d0-9441-4d24b5d61e5c",
   "metadata": {},
   "outputs": [
    {
     "name": "stdout",
     "output_type": "stream",
     "text": [
      "1.9999999999999984\n"
     ]
    }
   ],
   "source": [
    "print(expectation_value(4))"
   ]
  },
  {
   "cell_type": "code",
   "execution_count": 26,
   "id": "9744a22c-1391-4815-b51e-62bd0ee7db6f",
   "metadata": {},
   "outputs": [
    {
     "name": "stdout",
     "output_type": "stream",
     "text": [
      "0.0\n"
     ]
    }
   ],
   "source": [
    "print(expectation_value(1))"
   ]
  },
  {
   "cell_type": "code",
   "execution_count": 27,
   "id": "a2e6e781-cf18-4473-9cc6-74520a025979",
   "metadata": {},
   "outputs": [
    {
     "name": "stdout",
     "output_type": "stream",
     "text": [
      "3.3333333333333304\n"
     ]
    }
   ],
   "source": [
    "print(expectation_value(5))"
   ]
  },
  {
   "cell_type": "code",
   "execution_count": 28,
   "id": "b9fb0a46-29d4-4a48-84a7-17b639e29c4a",
   "metadata": {},
   "outputs": [
    {
     "name": "stdout",
     "output_type": "stream",
     "text": [
      "  (-1) [Z0]\n",
      "+ (-1) [Z1]\n",
      "+ (-1) [Z2]\n",
      "+ (-1) [Z3]\n",
      "+ (-1) [Z4]\n",
      "+ (0.3333333333333333) [X0 X1]\n",
      "+ (0.3333333333333333) [X0 X2]\n",
      "+ (0.3333333333333333) [X0 X3]\n",
      "+ (0.3333333333333333) [X0 X4]\n",
      "+ (0.3333333333333333) [X1 X2]\n",
      "+ (0.3333333333333333) [X1 X3]\n",
      "+ (0.3333333333333333) [X1 X4]\n",
      "+ (0.3333333333333333) [X2 X3]\n",
      "+ (0.3333333333333333) [X2 X4]\n",
      "+ (0.3333333333333333) [X3 X4]\n"
     ]
    }
   ],
   "source": [
    "print(construct_hamilitonian(5))"
   ]
  },
  {
   "cell_type": "code",
   "execution_count": 29,
   "id": "8b7b14b8-3b2d-4635-b024-157a00242468",
   "metadata": {},
   "outputs": [
    {
     "name": "stdout",
     "output_type": "stream",
     "text": [
      "4.999999999999996\n"
     ]
    }
   ],
   "source": [
    "print(expectation_value(6))"
   ]
  },
  {
   "cell_type": "code",
   "execution_count": 10,
   "id": "1ebfa661-4703-449a-bfd6-cdfac6b030fe",
   "metadata": {},
   "outputs": [
    {
     "name": "stdout",
     "output_type": "stream",
     "text": [
      "  (-1) [Z0]\n",
      "+ (-1) [Z1]\n",
      "+ (-1) [Z2]\n",
      "+ (-1) [Z3]\n",
      "+ (0.3333333333333333) [X0 X1]\n",
      "+ (0.3333333333333333) [X0 X2]\n",
      "+ (0.3333333333333333) [X0 X3]\n",
      "+ (0.3333333333333333) [X1 X2]\n",
      "+ (0.3333333333333333) [X1 X3]\n",
      "+ (0.3333333333333333) [X2 X3]\n"
     ]
    }
   ],
   "source": [
    "construct_hamilitonian(4)"
   ]
  },
  {
   "cell_type": "code",
   "execution_count": 20,
   "id": "e2f6ba56-2ccb-4f7c-b1da-01d3ce4df6eb",
   "metadata": {},
   "outputs": [
    {
     "name": "stdout",
     "output_type": "stream",
     "text": [
      "  (-1) [Z0]\n",
      "+ (-1) [Z1]\n",
      "+ (-1) [Z2]\n",
      "+ (-1) [Z3]\n",
      "+ (-1) [Z4]\n",
      "+ (-1) [Z5]\n",
      "+ (-1) [Z6]\n",
      "+ (-1) [Z7]\n",
      "+ (-1) [Z8]\n",
      "+ (-1) [Z9]\n",
      "+ (0.3333333333333333) [X0 X1]\n",
      "+ (0.3333333333333333) [X0 X2]\n",
      "+ (0.3333333333333333) [X0 X3]\n",
      "+ (0.3333333333333333) [X0 X4]\n",
      "+ (0.3333333333333333) [X0 X5]\n",
      "+ (0.3333333333333333) [X0 X6]\n",
      "+ (0.3333333333333333) [X0 X7]\n",
      "+ (0.3333333333333333) [X0 X8]\n",
      "+ (0.3333333333333333) [X0 X9]\n",
      "+ (0.3333333333333333) [X1 X2]\n",
      "+ (0.3333333333333333) [X1 X3]\n",
      "+ (0.3333333333333333) [X1 X4]\n",
      "+ (0.3333333333333333) [X1 X5]\n",
      "+ (0.3333333333333333) [X1 X6]\n",
      "+ (0.3333333333333333) [X1 X7]\n",
      "+ (0.3333333333333333) [X1 X8]\n",
      "+ (0.3333333333333333) [X1 X9]\n",
      "+ (0.3333333333333333) [X2 X3]\n",
      "+ (0.3333333333333333) [X2 X4]\n",
      "+ (0.3333333333333333) [X2 X5]\n",
      "+ (0.3333333333333333) [X2 X6]\n",
      "+ (0.3333333333333333) [X2 X7]\n",
      "+ (0.3333333333333333) [X2 X8]\n",
      "+ (0.3333333333333333) [X2 X9]\n",
      "+ (0.3333333333333333) [X3 X4]\n",
      "+ (0.3333333333333333) [X3 X5]\n",
      "+ (0.3333333333333333) [X3 X6]\n",
      "+ (0.3333333333333333) [X3 X7]\n",
      "+ (0.3333333333333333) [X3 X8]\n",
      "+ (0.3333333333333333) [X3 X9]\n",
      "+ (0.3333333333333333) [X4 X5]\n",
      "+ (0.3333333333333333) [X4 X6]\n",
      "+ (0.3333333333333333) [X4 X7]\n",
      "+ (0.3333333333333333) [X4 X8]\n",
      "+ (0.3333333333333333) [X4 X9]\n",
      "+ (0.3333333333333333) [X5 X6]\n",
      "+ (0.3333333333333333) [X5 X7]\n",
      "+ (0.3333333333333333) [X5 X8]\n",
      "+ (0.3333333333333333) [X5 X9]\n",
      "+ (0.3333333333333333) [X6 X7]\n",
      "+ (0.3333333333333333) [X6 X8]\n",
      "+ (0.3333333333333333) [X6 X9]\n",
      "+ (0.3333333333333333) [X7 X8]\n",
      "+ (0.3333333333333333) [X7 X9]\n",
      "+ (0.3333333333333333) [X8 X9]\n"
     ]
    }
   ],
   "source": [
    "print(construct_hamilitonian(10))"
   ]
  },
  {
   "cell_type": "code",
   "execution_count": null,
   "id": "0d78e916-3ced-426e-84ac-b5d7192ab392",
   "metadata": {},
   "outputs": [],
   "source": []
  }
 ],
 "metadata": {
  "kernelspec": {
   "display_name": "PennyLane",
   "language": "python",
   "name": "pennylane"
  },
  "language_info": {
   "codemirror_mode": {
    "name": "ipython",
    "version": 3
   },
   "file_extension": ".py",
   "mimetype": "text/x-python",
   "name": "python",
   "nbconvert_exporter": "python",
   "pygments_lexer": "ipython3",
   "version": "3.9.15"
  }
 },
 "nbformat": 4,
 "nbformat_minor": 5
}
